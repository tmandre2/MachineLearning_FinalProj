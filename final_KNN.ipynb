{
 "cells": [
  {
   "cell_type": "code",
   "execution_count": 6,
   "metadata": {},
   "outputs": [],
   "source": [
    "import numpy as np\n",
    "import pandas as pd \n",
    "import random\n",
    "from sklearn.neighbors import KNeighborsClassifier\n",
    "import matplotlib.pyplot as plt"
   ]
  },
  {
   "cell_type": "code",
   "execution_count": 15,
   "metadata": {},
   "outputs": [],
   "source": [
    "np.random.seed(55)\n",
    "# Read data from file 'filename.csv' \n",
    "# (in the same directory that your python process is based)\n",
    "# Control delimiters, rows, column names with read_csv (see later) \n",
    "data = pd.read_csv(\"data/protein_only.csv\") \n",
    "# Preview the first 5 lines of the loaded data \n",
    "#data.head()"
   ]
  },
  {
   "cell_type": "code",
   "execution_count": 16,
   "metadata": {},
   "outputs": [],
   "source": [
    "feature_names=list(data)\n",
    "\n",
    "#print(feature_names)\n",
    "\n",
    "datamat=np.array(data)\n",
    "random.shuffle(datamat)\n",
    "\n",
    "labels=datamat[:,-1]\n",
    "datamat=datamat[:,:-1]\n",
    "datamat = np.nan_to_num(datamat)"
   ]
  },
  {
   "cell_type": "code",
   "execution_count": 21,
   "metadata": {},
   "outputs": [],
   "source": [
    "def normalize_data(datamat):\n",
    "    for i in range(0, datamat.shape[1]):\n",
    "        if np.max(datamat[:,i]) != 0:\n",
    "            datamat[:,i]=(datamat[:,i]-np.mean(datamat[:,i]))/np.std(datamat[:,i])\n",
    "    return datamat\n",
    "\n",
    "#Split Data into Training, Validation, and Testing Sets\n",
    "\n",
    "train_perc=0.7\n",
    "test_perc=0.15\n",
    "val_perc=0.15\n",
    "\n",
    "ind1=int(datamat.shape[0]*train_perc)\n",
    "ind2=ind1+int(datamat.shape[0]*val_perc)\n",
    "\n",
    "X_train=normalize_data(datamat[:ind1,:])\n",
    "y_train=labels[:ind1]\n",
    "\n",
    "X_val=normalize_data(datamat[ind1:ind2,:])\n",
    "y_val=labels[ind1:ind2]\n",
    "\n",
    "X_test=normalize_data(datamat[ind2:,:])\n",
    "y_test=labels[ind2:]"
   ]
  },
  {
   "cell_type": "code",
   "execution_count": 22,
   "metadata": {},
   "outputs": [
    {
     "name": "stdout",
     "output_type": "stream",
     "text": [
      "Minimum validation error of 0.2716049382716049 achieved for k=2 nearest neighbors\n"
     ]
    },
    {
     "data": {
      "image/png": "[encoded data removed]",
      "text/plain": [
       "<Figure size 432x288 with 1 Axes>"
      ]
     },
     "metadata": {
      "needs_background": "light"
     },
     "output_type": "display_data"
    },
    {
     "name": "stdout",
     "output_type": "stream",
     "text": [
      "Testing error: 0.2891566265060241\n",
      "Test accuracy: 0.7108433734939759\n"
     ]
    }
   ],
   "source": [
    "# Something is going wrong here... \n",
    "k = np.linspace(1,40,40)\n",
    "error = np.zeros((k.size,1))\n",
    "n = y_val.shape[0]\n",
    "for j in range(k.size):\n",
    "    knn_class = np.zeros((n,1))\n",
    "    neigh = KNeighborsClassifier(n_neighbors=int(k[j]))\n",
    "    neigh.fit(X_train, y_train) \n",
    "    pred = neigh.predict(X_val)\n",
    "    error[j] = np.sum(np.abs(pred - y_val))/n\n",
    "\n",
    "print('Minimum validation error of {} achieved for k={} nearest neighbors'.format(np.min(error),\n",
    "                                                                                  np.argmin(error)+1))\n",
    "fig, ax = plt.subplots()\n",
    "ax.plot(k, error)\n",
    "\n",
    "ax.set(xlabel='Nearest Neighbors', ylabel='Error')\n",
    "ax.grid()\n",
    "plt.show()\n",
    "\n",
    "\n",
    "n,p = X_test.shape\n",
    "k = np.argmin(error)+1\n",
    "neigh = KNeighborsClassifier(n_neighbors=int(k))\n",
    "neigh.fit(X_train, y_train) \n",
    "pred = neigh.predict(X_test)\n",
    "err = np.sum(np.abs(pred - y_test))/n\n",
    "print('Testing error: {}'.format(err))\n",
    "print('Test accuracy: {}'.format(1-err))"
   ]
  },
  {
   "cell_type": "code",
   "execution_count": 23,
   "metadata": {},
   "outputs": [
    {
     "data": {
      "text/plain": [
       "0.7283950617283951"
      ]
     },
     "execution_count": 23,
     "metadata": {},
     "output_type": "execute_result"
    }
   ],
   "source": [
    "1-0.2716049382716049\n"
   ]
  },
  {
   "cell_type": "code",
   "execution_count": null,
   "metadata": {},
   "outputs": [],
   "source": []
  },
  {
   "cell_type": "code",
   "execution_count": null,
   "metadata": {},
   "outputs": [],
   "source": []
  }
 ],
 "metadata": {
  "kernelspec": {
   "display_name": "Python 3",
   "language": "python",
   "name": "python3"
  },
  "language_info": {
   "codemirror_mode": {
    "name": "ipython",
    "version": 3
   },
   "file_extension": ".py",
   "mimetype": "text/x-python",
   "name": "python",
   "nbconvert_exporter": "python",
   "pygments_lexer": "ipython3",
   "version": "3.6.6"
  }
 },
 "nbformat": 4,
 "nbformat_minor": 2
}
