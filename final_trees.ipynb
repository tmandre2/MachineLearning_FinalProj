{
 "cells": [
  {
   "cell_type": "code",
   "execution_count": 3,
   "metadata": {},
   "outputs": [
    {
     "name": "stderr",
     "output_type": "stream",
     "text": [
      "Using TensorFlow backend.\n"
     ]
    }
   ],
   "source": [
    "import numpy as np\n",
    "import tensorflow as tf\n",
    "import keras\n",
    "from keras.models import Sequential\n",
    "from keras.layers import Dense\n",
    "import pandas as pd \n",
    "import random\n",
    "import sklearn as skl\n",
    "from sklearn import svm\n",
    "from sklearn.neighbors import KNeighborsClassifier\n",
    "import matplotlib.pyplot as plt\n",
    "from sklearn import tree\n",
    "from sklearn.tree import DecisionTreeClassifier\n",
    "from sklearn.tree._tree import TREE_LEAF\n",
    "from sklearn.ensemble import RandomForestClassifier\n",
    "from sklearn.datasets import make_classification"
   ]
  },
  {
   "cell_type": "code",
   "execution_count": 5,
   "metadata": {},
   "outputs": [
    {
     "data": {
      "text/html": [
       "<div>\n",
       "<style scoped>\n",
       "    .dataframe tbody tr th:only-of-type {\n",
       "        vertical-align: middle;\n",
       "    }\n",
       "\n",
       "    .dataframe tbody tr th {\n",
       "        vertical-align: top;\n",
       "    }\n",
       "\n",
       "    .dataframe thead th {\n",
       "        text-align: right;\n",
       "    }\n",
       "</style>\n",
       "<table border=\"1\" class=\"dataframe\">\n",
       "  <thead>\n",
       "    <tr style=\"text-align: right;\">\n",
       "      <th></th>\n",
       "      <th>SAA</th>\n",
       "      <th>CRP</th>\n",
       "      <th>VCAM_1</th>\n",
       "      <th>ICAM_1</th>\n",
       "      <th>Thrombomodulin</th>\n",
       "      <th>ICAM_3</th>\n",
       "      <th>E_Selectin</th>\n",
       "      <th>P_Selectin</th>\n",
       "      <th>LBP</th>\n",
       "      <th>MMP_1</th>\n",
       "      <th>...</th>\n",
       "      <th>NT_proBNP</th>\n",
       "      <th>GH</th>\n",
       "      <th>Fibrinogen</th>\n",
       "      <th>PAPP_A_Signal</th>\n",
       "      <th>PAPP_A</th>\n",
       "      <th>vWF</th>\n",
       "      <th>tPA</th>\n",
       "      <th>D_Dimer</th>\n",
       "      <th>GDF_15</th>\n",
       "      <th>dthmi</th>\n",
       "    </tr>\n",
       "  </thead>\n",
       "  <tbody>\n",
       "    <tr>\n",
       "      <th>0</th>\n",
       "      <td>23933.4</td>\n",
       "      <td>22694.6</td>\n",
       "      <td>918.4</td>\n",
       "      <td>383.2</td>\n",
       "      <td>2.24</td>\n",
       "      <td>3.796</td>\n",
       "      <td>13.920</td>\n",
       "      <td>223.812</td>\n",
       "      <td>12568.0</td>\n",
       "      <td>108.60</td>\n",
       "      <td>...</td>\n",
       "      <td>2973.34</td>\n",
       "      <td>1035.55</td>\n",
       "      <td>2932767</td>\n",
       "      <td>0.225</td>\n",
       "      <td>0.0</td>\n",
       "      <td>38614.4</td>\n",
       "      <td>4330.467689</td>\n",
       "      <td>686.05</td>\n",
       "      <td>2680.16</td>\n",
       "      <td>1</td>\n",
       "    </tr>\n",
       "    <tr>\n",
       "      <th>1</th>\n",
       "      <td>5643.4</td>\n",
       "      <td>2502.4</td>\n",
       "      <td>422.8</td>\n",
       "      <td>229.4</td>\n",
       "      <td>2.50</td>\n",
       "      <td>2.176</td>\n",
       "      <td>6.100</td>\n",
       "      <td>127.340</td>\n",
       "      <td>5561.4</td>\n",
       "      <td>33.25</td>\n",
       "      <td>...</td>\n",
       "      <td>647.80</td>\n",
       "      <td>439.57</td>\n",
       "      <td>2793528</td>\n",
       "      <td>0.203</td>\n",
       "      <td>0.0</td>\n",
       "      <td>13312.4</td>\n",
       "      <td>2769.321986</td>\n",
       "      <td>224.29</td>\n",
       "      <td>1124.64</td>\n",
       "      <td>1</td>\n",
       "    </tr>\n",
       "    <tr>\n",
       "      <th>2</th>\n",
       "      <td>56066.4</td>\n",
       "      <td>9274.6</td>\n",
       "      <td>571.8</td>\n",
       "      <td>323.2</td>\n",
       "      <td>2.70</td>\n",
       "      <td>1.564</td>\n",
       "      <td>28.116</td>\n",
       "      <td>65.968</td>\n",
       "      <td>9385.8</td>\n",
       "      <td>24.07</td>\n",
       "      <td>...</td>\n",
       "      <td>1423.27</td>\n",
       "      <td>45.90</td>\n",
       "      <td>4080213</td>\n",
       "      <td>0.221</td>\n",
       "      <td>0.0</td>\n",
       "      <td>9842.0</td>\n",
       "      <td>26241.062210</td>\n",
       "      <td>876.05</td>\n",
       "      <td>1145.36</td>\n",
       "      <td>1</td>\n",
       "    </tr>\n",
       "    <tr>\n",
       "      <th>3</th>\n",
       "      <td>3938.2</td>\n",
       "      <td>1133.8</td>\n",
       "      <td>249.6</td>\n",
       "      <td>186.8</td>\n",
       "      <td>2.35</td>\n",
       "      <td>1.780</td>\n",
       "      <td>11.984</td>\n",
       "      <td>98.956</td>\n",
       "      <td>1935.6</td>\n",
       "      <td>7.17</td>\n",
       "      <td>...</td>\n",
       "      <td>15.36</td>\n",
       "      <td>23.36</td>\n",
       "      <td>2388204</td>\n",
       "      <td>0.202</td>\n",
       "      <td>0.0</td>\n",
       "      <td>9017.6</td>\n",
       "      <td>13657.778170</td>\n",
       "      <td>477.76</td>\n",
       "      <td>814.88</td>\n",
       "      <td>0</td>\n",
       "    </tr>\n",
       "    <tr>\n",
       "      <th>4</th>\n",
       "      <td>1372.4</td>\n",
       "      <td>718.0</td>\n",
       "      <td>383.8</td>\n",
       "      <td>184.0</td>\n",
       "      <td>3.67</td>\n",
       "      <td>2.884</td>\n",
       "      <td>10.332</td>\n",
       "      <td>100.864</td>\n",
       "      <td>5651.4</td>\n",
       "      <td>29.15</td>\n",
       "      <td>...</td>\n",
       "      <td>480.40</td>\n",
       "      <td>2.85</td>\n",
       "      <td>3610737</td>\n",
       "      <td>0.190</td>\n",
       "      <td>0.0</td>\n",
       "      <td>12484.8</td>\n",
       "      <td>19483.595630</td>\n",
       "      <td>612.35</td>\n",
       "      <td>820.32</td>\n",
       "      <td>0</td>\n",
       "    </tr>\n",
       "  </tbody>\n",
       "</table>\n",
       "<p>5 rows × 63 columns</p>\n",
       "</div>"
      ],
      "text/plain": [
       "       SAA      CRP  VCAM_1  ICAM_1  Thrombomodulin  ICAM_3  E_Selectin  \\\n",
       "0  23933.4  22694.6   918.4   383.2            2.24   3.796      13.920   \n",
       "1   5643.4   2502.4   422.8   229.4            2.50   2.176       6.100   \n",
       "2  56066.4   9274.6   571.8   323.2            2.70   1.564      28.116   \n",
       "3   3938.2   1133.8   249.6   186.8            2.35   1.780      11.984   \n",
       "4   1372.4    718.0   383.8   184.0            3.67   2.884      10.332   \n",
       "\n",
       "   P_Selectin      LBP   MMP_1  ...    NT_proBNP       GH  Fibrinogen  \\\n",
       "0     223.812  12568.0  108.60  ...      2973.34  1035.55     2932767   \n",
       "1     127.340   5561.4   33.25  ...       647.80   439.57     2793528   \n",
       "2      65.968   9385.8   24.07  ...      1423.27    45.90     4080213   \n",
       "3      98.956   1935.6    7.17  ...        15.36    23.36     2388204   \n",
       "4     100.864   5651.4   29.15  ...       480.40     2.85     3610737   \n",
       "\n",
       "   PAPP_A_Signal  PAPP_A      vWF           tPA  D_Dimer   GDF_15  dthmi  \n",
       "0          0.225     0.0  38614.4   4330.467689   686.05  2680.16      1  \n",
       "1          0.203     0.0  13312.4   2769.321986   224.29  1124.64      1  \n",
       "2          0.221     0.0   9842.0  26241.062210   876.05  1145.36      1  \n",
       "3          0.202     0.0   9017.6  13657.778170   477.76   814.88      0  \n",
       "4          0.190     0.0  12484.8  19483.595630   612.35   820.32      0  \n",
       "\n",
       "[5 rows x 63 columns]"
      ]
     },
     "execution_count": 5,
     "metadata": {},
     "output_type": "execute_result"
    }
   ],
   "source": [
    "np.random.seed(1)\n",
    "# Read data from file 'filename.csv' \n",
    "# (in the same directory that your python process is based)\n",
    "# Control delimiters, rows, column names with read_csv (see later) \n",
    "data = pd.read_csv(\"protein_only.csv\") \n",
    "# Preview the first 5 lines of the loaded data \n",
    "data.head()"
   ]
  },
  {
   "cell_type": "code",
   "execution_count": 6,
   "metadata": {},
   "outputs": [
    {
     "name": "stdout",
     "output_type": "stream",
     "text": [
      "['SAA', 'CRP', 'VCAM_1', 'ICAM_1', 'Thrombomodulin', 'ICAM_3', 'E_Selectin', 'P_Selectin', 'LBP', 'MMP_1', 'MMP_3', 'MMP_9', 'TIMP_1', 'bFGF', 'sFlt_1', 'PlGF', 'VEGF', 'CKMB', 'Myo_Signal', 'Myo', 'TnI_Signal', 'TnI', 'MCP_1', 'TNFa', 'IL_1b_Signal', 'IL_1b', 'IL_2_Signal', 'IL_2', 'Il_4_Signal', 'Il_4', 'IL_6', 'IL_10', 'MCSF', 'GCSF', 'IL_1a_Signal', 'IL_1a', 'IL_1ra_Signal', 'IL_1ra', 'IL_18', 'OPGN', 'Apo_A1', 'Apo_B_Signal', 'Apo_B', 'Apo_E', 'PDGF_AA', 'PDGF_AB_BB', 'RANTES', 'MPO', 'Total_PAI_1', 'sCD40L_Signal', 'sCD40L', 'TNFb_Signal', 'TNFb', 'NT_proBNP', 'GH', 'Fibrinogen', 'PAPP_A_Signal', 'PAPP_A', 'vWF', 'tPA', 'D_Dimer', 'GDF_15', 'dthmi']\n"
     ]
    }
   ],
   "source": [
    "\n",
    "feature_names=list(data)\n",
    "\n",
    "print(feature_names)\n",
    "\n",
    "datamat=np.array(data)\n",
    "random.shuffle(datamat)\n",
    "\n",
    "labels=datamat[:,-1]\n",
    "datamat=datamat[:,:-1]\n",
    "datamat = np.nan_to_num(datamat)"
   ]
  },
  {
   "cell_type": "code",
   "execution_count": 7,
   "metadata": {},
   "outputs": [],
   "source": [
    "#Split Data into Training, Validation, and Testing Sets\n",
    "\n",
    "train_perc=0.7\n",
    "test_perc=0.15\n",
    "val_perc=0.15\n",
    "\n",
    "ind1=int(datamat.shape[0]*train_perc)\n",
    "ind2=ind1+int(datamat.shape[0]*val_perc)\n",
    "\n",
    "X_train=datamat[:ind1,:]\n",
    "y_train=labels[:ind1]\n",
    "\n",
    "X_val=datamat[ind1:ind2,:]\n",
    "y_val=labels[ind1:ind2]\n",
    "\n",
    "X_test=datamat[ind2:,:]\n",
    "y_test=datamat[ind2:]\n",
    "\n",
    "#imp = SimpleImputer(missing_values=(np.nan, np.Infinity) , strategy='constant',fill_value=0.0)\n",
    "#imp = imp.fit(X_train)"
   ]
  },
  {
   "cell_type": "code",
   "execution_count": 12,
   "metadata": {},
   "outputs": [],
   "source": [
    "# decision tree classifier\n",
    "\n",
    "max_depth = 4\n",
    "min_samples_split = 2\n",
    "model = tree.DecisionTreeClassifier(max_depth = max_depth,min_samples_split=min_samples_split)\n",
    "model.fit(X_train,y_train)\n",
    "#y_predict=model.predict(X_test)\n",
    "err_train = 1 - model.score(X_train,y_train)\n",
    "err_val =  1 - model.score(X_val,y_val)"
   ]
  },
  {
   "cell_type": "code",
   "execution_count": 13,
   "metadata": {},
   "outputs": [
    {
     "name": "stdout",
     "output_type": "stream",
     "text": [
      "0.12827225130890052\n",
      "0.37037037037037035\n"
     ]
    }
   ],
   "source": [
    "print(err_train)\n",
    "print(err_val)"
   ]
  },
  {
   "cell_type": "code",
   "execution_count": 62,
   "metadata": {},
   "outputs": [],
   "source": [
    "# choose better hyperparameters (start w/ the ones we did for project)\n",
    "depth_array = np.array([None,10,20,30,40,50,60])\n",
    "min_samp_array = np.array([2,4,8,12,16])"
   ]
  },
  {
   "cell_type": "code",
   "execution_count": 63,
   "metadata": {},
   "outputs": [],
   "source": [
    "\n",
    "errvec0 = np.zeros((len(depth_array),len(min_samp_array)))  # match dimensions of arrays\n",
    "errvec1 = np.zeros((len(depth_array),len(min_samp_array))) \n",
    "for i1 in range(0,len(depth_array)):\n",
    "    max_depth = depth_array[i1]\n",
    "    for i2 in range(0,len(min_samp_array)):\n",
    "        min_samples_split=min_samp_array[i2]\n",
    "        model = tree.DecisionTreeClassifier(max_depth = max_depth,min_samples_split=min_samples_split)\n",
    "        model.fit(X_train,y_train)\n",
    "        err0 = 1 - model.score(X_train,y_train)\n",
    "        err1 = 1 - model.score(X_val,y_val)\n",
    "        errvec0[i1,i2]=err0\n",
    "        errvec1[i1,i2]=err1"
   ]
  },
  {
   "cell_type": "code",
   "execution_count": 64,
   "metadata": {},
   "outputs": [
    {
     "data": {
      "text/plain": [
       "array([[0.        , 0.0078534 , 0.03403141, 0.03403141, 0.04973822],\n",
       "       [0.0052356 , 0.0104712 , 0.03403141, 0.03141361, 0.05235602],\n",
       "       [0.        , 0.0078534 , 0.03141361, 0.03403141, 0.05235602],\n",
       "       [0.        , 0.0104712 , 0.03141361, 0.03403141, 0.04973822],\n",
       "       [0.        , 0.0078534 , 0.03403141, 0.03141361, 0.04973822],\n",
       "       [0.        , 0.0078534 , 0.03403141, 0.03141361, 0.04973822],\n",
       "       [0.        , 0.0078534 , 0.03403141, 0.03141361, 0.04973822]])"
      ]
     },
     "execution_count": 64,
     "metadata": {},
     "output_type": "execute_result"
    }
   ],
   "source": [
    "errvec0"
   ]
  },
  {
   "cell_type": "code",
   "execution_count": 65,
   "metadata": {},
   "outputs": [
    {
     "data": {
      "text/plain": [
       "array([[0.28395062, 0.30864198, 0.27160494, 0.28395062, 0.30864198],\n",
       "       [0.27160494, 0.2962963 , 0.28395062, 0.28395062, 0.28395062],\n",
       "       [0.28395062, 0.28395062, 0.2962963 , 0.27160494, 0.28395062],\n",
       "       [0.28395062, 0.27160494, 0.28395062, 0.28395062, 0.30864198],\n",
       "       [0.2962963 , 0.2962963 , 0.27160494, 0.27160494, 0.2962963 ],\n",
       "       [0.28395062, 0.25925926, 0.28395062, 0.2962963 , 0.2962963 ],\n",
       "       [0.30864198, 0.2962963 , 0.28395062, 0.2962963 , 0.2962963 ]])"
      ]
     },
     "execution_count": 65,
     "metadata": {},
     "output_type": "execute_result"
    }
   ],
   "source": [
    "errvec1"
   ]
  },
  {
   "cell_type": "code",
   "execution_count": 36,
   "metadata": {},
   "outputs": [],
   "source": [
    "# w/ depth 10, min samp 10...26% err for validation\n",
    "# w/ depth 50, min samp 10...26% err\n",
    "# depth 50, min samp 8\n",
    "# w/ depth 10, min samp 4 ... 23% \n"
   ]
  },
  {
   "cell_type": "code",
   "execution_count": 71,
   "metadata": {},
   "outputs": [
    {
     "name": "stdout",
     "output_type": "stream",
     "text": [
      "[[0.04973822 0.05497382 0.07591623 0.10732984]\n",
      " [0.05235602 0.05497382 0.07591623 0.10732984]\n",
      " [0.04973822 0.05497382 0.07591623 0.10732984]\n",
      " [0.05235602 0.05235602 0.07591623 0.10732984]\n",
      " [0.05235602 0.05497382 0.07591623 0.10732984]\n",
      " [0.05235602 0.05497382 0.07591623 0.10732984]\n",
      " [0.05235602 0.05235602 0.07591623 0.10732984]]\n"
     ]
    }
   ],
   "source": [
    "depth_array = np.array([None,10,20,30,40,50,60])\n",
    "min_samp_array =4\n",
    "min_samples_leaf_arr = ([1,2,4,8])\n",
    "\n",
    "errvec0 = np.zeros((len(depth_array),len(min_samples_leaf_arr)))  # match dimensions of arrays\n",
    "errvec1 = np.zeros((len(depth_array),len(min_samples_leaf_arr))) \n",
    "for i1 in range(0,len(depth_array)):\n",
    "    max_depth = depth_array[i1]\n",
    "    for i2 in range(0,len(min_samples_leaf_arr)):\n",
    "        min_samples_leaf=min_samples_leaf_arr[i2]\n",
    "        model = tree.DecisionTreeClassifier(max_depth = max_depth,\n",
    "                                            min_samples_split=min_samples_split,min_samples_leaf=min_samples_leaf)\n",
    "        model.fit(X_train,y_train)\n",
    "        err0 = 1 - model.score(X_train,y_train)\n",
    "        err1 = 1 - model.score(X_val,y_val)\n",
    "        errvec0[i1,i2]=err0\n",
    "        errvec1[i1,i2]=err1\n",
    "print(errvec0)\n"
   ]
  },
  {
   "cell_type": "code",
   "execution_count": 72,
   "metadata": {},
   "outputs": [
    {
     "name": "stdout",
     "output_type": "stream",
     "text": [
      "[[0.32098765 0.2962963  0.33333333 0.32098765]\n",
      " [0.28395062 0.2962963  0.2962963  0.32098765]\n",
      " [0.32098765 0.30864198 0.32098765 0.32098765]\n",
      " [0.28395062 0.2962963  0.32098765 0.32098765]\n",
      " [0.28395062 0.30864198 0.2962963  0.32098765]\n",
      " [0.2962963  0.30864198 0.2962963  0.32098765]\n",
      " [0.28395062 0.2962963  0.30864198 0.32098765]]\n"
     ]
    }
   ],
   "source": [
    "print(errvec1)"
   ]
  },
  {
   "cell_type": "code",
   "execution_count": null,
   "metadata": {},
   "outputs": [],
   "source": []
  }
 ],
 "metadata": {
  "kernelspec": {
   "display_name": "Python 3",
   "language": "python",
   "name": "python3"
  },
  "language_info": {
   "codemirror_mode": {
    "name": "ipython",
    "version": 3
   },
   "file_extension": ".py",
   "mimetype": "text/x-python",
   "name": "python",
   "nbconvert_exporter": "python",
   "pygments_lexer": "ipython3",
   "version": "3.6.6"
  }
 },
 "nbformat": 4,
 "nbformat_minor": 2
}
